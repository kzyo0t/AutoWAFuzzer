{
 "cells": [
  {
   "cell_type": "code",
   "execution_count": 3,
   "metadata": {
    "executionInfo": {
     "elapsed": 2411,
     "status": "ok",
     "timestamp": 1750349234414,
     "user": {
      "displayName": "Phạm Công Lập",
      "userId": "18035718571989140585"
     },
     "user_tz": -420
    },
    "id": "_8nsrV-vnAbu"
   },
   "outputs": [],
   "source": [
    "import os\n",
    "from pymisp import PyMISP\n",
    "from langchain.vectorstores import Chroma\n",
    "from langchain.embeddings import HuggingFaceEmbeddings\n",
    "from langchain.schema import Document"
   ]
  },
  {
   "cell_type": "code",
   "execution_count": null,
   "metadata": {
    "executionInfo": {
     "elapsed": 80,
     "status": "ok",
     "timestamp": 1750349234505,
     "user": {
      "displayName": "Phạm Công Lập",
      "userId": "18035718571989140585"
     },
     "user_tz": -420
    },
    "id": "hitWUf96Pl2j"
   },
   "outputs": [],
   "source": [
    "# Constants\n",
    "MISP_URL = \"https://your-misp-instance.com\"  # Replace with your MISP instance URL\n",
    "MISP_KEY = \"your-API-key-here\"  # Replace with your actual MISP API key\n",
    "BATCH_SIZE = 5461\n",
    "EMBEDDING_MODEL_PATH = \"all-MiniLM-L6-v2\"\n",
    "\n",
    "def get_payloads_from_misp(event_id):\n",
    "    misp = PyMISP(MISP_URL, MISP_KEY, False)\n",
    "    event = misp.get_event(event_id)\n",
    "    return list({attr[\"value\"].strip() for attr in event.get(\"Event\", {}).get(\"Attribute\", []) if attr[\"value\"].strip()})\n",
    "\n",
    "def build_vector_db(event_id, vector_db_path, collection_name):\n",
    "    # Load payloads\n",
    "    payloads = get_payloads_from_misp(event_id)\n",
    "    if not payloads:\n",
    "        print(f\"No payloads found in MISP Event {event_id}\")\n",
    "        return\n",
    "\n",
    "    # Init embedding and vector store\n",
    "    embedding = HuggingFaceEmbeddings(model_name=EMBEDDING_MODEL_PATH)\n",
    "    vector_db = Chroma(persist_directory=vector_db_path, embedding_function=embedding)\n",
    "\n",
    "    # Convert to Documents and insert\n",
    "    documents = [Document(page_content=p, metadata={\"type\": collection_name}) for p in payloads]\n",
    "    for i in range(0, len(documents), BATCH_SIZE):\n",
    "        vector_db.add_documents(documents[i:i + BATCH_SIZE])\n",
    "    vector_db.persist()\n",
    "\n",
    "    print(f\"Saved {len(documents)} {collection_name.upper()} payloads to vector DB at: {vector_db_path}\")\n",
    "\n",
    "    # Test retrieval\n",
    "    docs = vector_db.similarity_search(\"\", k=5)\n",
    "    print(\"\\n=== Payloads Retrieved ===\")\n",
    "    for i, doc in enumerate(docs, 1):\n",
    "        print(f\"{i}. {doc.page_content}\")\n",
    "\n",
    "    print(\"\\n=== Corresponding Vectors ===\")\n",
    "    vectors = embedding.embed_documents([doc.page_content for doc in docs])\n",
    "    for i, vec in enumerate(vectors, 1):\n",
    "        print(f\"{i}. {vec[:10]}\")"
   ]
  },
  {
   "cell_type": "code",
   "execution_count": null,
   "metadata": {
    "colab": {
     "base_uri": "https://localhost:8080/"
    },
    "executionInfo": {
     "elapsed": 620941,
     "status": "ok",
     "timestamp": 1750349855449,
     "user": {
      "displayName": "Phạm Công Lập",
      "userId": "18035718571989140585"
     },
     "user_tz": -420
    },
    "id": "X4NQv6xqzvGk",
    "outputId": "9873a978-1358-400d-97ee-170b20ff129c"
   },
   "outputs": [
    {
     "name": "stderr",
     "output_type": "stream",
     "text": [
      "/usr/local/lib/python3.11/dist-packages/urllib3/connectionpool.py:1097: InsecureRequestWarning: Unverified HTTPS request is being made to host '0300-2402-800-6388-34ba-9e0-b30-ee67-90b2.ngrok-free.app'. Adding certificate verification is strongly advised. See: https://urllib3.readthedocs.io/en/latest/advanced-usage.html#tls-warnings\n",
      "  warnings.warn(\n",
      "/usr/local/lib/python3.11/dist-packages/urllib3/connectionpool.py:1097: InsecureRequestWarning: Unverified HTTPS request is being made to host '0300-2402-800-6388-34ba-9e0-b30-ee67-90b2.ngrok-free.app'. Adding certificate verification is strongly advised. See: https://urllib3.readthedocs.io/en/latest/advanced-usage.html#tls-warnings\n",
      "  warnings.warn(\n",
      "/usr/local/lib/python3.11/dist-packages/urllib3/connectionpool.py:1097: InsecureRequestWarning: Unverified HTTPS request is being made to host '0300-2402-800-6388-34ba-9e0-b30-ee67-90b2.ngrok-free.app'. Adding certificate verification is strongly advised. See: https://urllib3.readthedocs.io/en/latest/advanced-usage.html#tls-warnings\n",
      "  warnings.warn(\n",
      "/usr/local/lib/python3.11/dist-packages/urllib3/connectionpool.py:1097: InsecureRequestWarning: Unverified HTTPS request is being made to host '0300-2402-800-6388-34ba-9e0-b30-ee67-90b2.ngrok-free.app'. Adding certificate verification is strongly advised. See: https://urllib3.readthedocs.io/en/latest/advanced-usage.html#tls-warnings\n",
      "  warnings.warn(\n",
      "/tmp/ipython-input-4-1567086928.py:20: LangChainDeprecationWarning: The class `HuggingFaceEmbeddings` was deprecated in LangChain 0.2.2 and will be removed in 1.0. An updated version of the class exists in the :class:`~langchain-huggingface package and should be used instead. To use it run `pip install -U :class:`~langchain-huggingface` and import as `from :class:`~langchain_huggingface import HuggingFaceEmbeddings``.\n",
      "  embedding = HuggingFaceEmbeddings(model_name=EMBEDDING_MODEL_PATH)\n",
      "/tmp/ipython-input-4-1567086928.py:21: LangChainDeprecationWarning: The class `Chroma` was deprecated in LangChain 0.2.9 and will be removed in 1.0. An updated version of the class exists in the :class:`~langchain-chroma package and should be used instead. To use it run `pip install -U :class:`~langchain-chroma` and import as `from :class:`~langchain_chroma import Chroma``.\n",
      "  vector_db = Chroma(persist_directory=vector_db_path, embedding_function=embedding)\n"
     ]
    },
    {
     "name": "stdout",
     "output_type": "stream",
     "text": [
      "Saved 26000 XSS payloads to vector DB at: /content/drive/MyDrive/NCKH/FINAL/RAG-Agent/vectorDB/vectorize_xss_26k_MISP\n",
      "\n",
      "=== Payloads Retrieved ===\n",
      "1. <bdo%0dcontenteditable%0aondblclick%09=%0aalert(XSS)%0dx>xss\n",
      "2. <font%0dcontenteditable%0aondblclick%0d=%0dalert(XSS)%0dx//xss\n",
      "3. <i%0acontenteditable%0donmousemove+=%09alert(XSS)%0dx>xss\n",
      "4. <br%0dcontenteditable%0donmouseover+=%0dalert(XSS)%0dx>xss\n",
      "5. <summary%0acontenteditable%0donmousemove%09=%0dalert(XSS)%0dx>xss\n",
      "\n",
      "=== Corresponding Vectors ===\n",
      "1. [-0.029809869825839996, -0.03533768653869629, -0.033103227615356445, 0.02542710490524769, 0.06602891534566879, 0.016763193532824516, 0.11629865318536758, -0.006964342202991247, -0.021239472553133965, -0.009740371257066727]\n",
      "2. [-0.04136395826935768, 0.018394744023680687, -0.0914875715970993, 0.04152258485555649, 0.04893212020397186, -0.025130780413746834, 0.051521606743335724, -0.02738058753311634, -0.04406151920557022, -0.02599467895925045]\n",
      "3. [-0.0020100607071071863, 0.02318304218351841, -0.053217921406030655, 0.06423220783472061, 0.06177579239010811, -0.007732973899692297, 0.15294969081878662, -0.03685920685529709, 0.014232583343982697, 0.019590122625231743]\n",
      "4. [-0.01831277273595333, 0.011164514347910881, -0.04732678085565567, -0.0070266989059746265, 0.05680254101753235, -0.03453189507126808, 0.09458840638399124, -0.05763057619333267, -0.0024367489386349916, -0.020830804482102394]\n",
      "5. [0.008378280326724052, 0.014856030233204365, -0.07066560536623001, 0.05218321830034256, 0.04947736859321594, 0.014138043858110905, 0.10238631814718246, -0.02476896345615387, 0.0005543906590901315, 0.022882310673594475]\n"
     ]
    },
    {
     "name": "stderr",
     "output_type": "stream",
     "text": [
      "/tmp/ipython-input-4-1567086928.py:27: LangChainDeprecationWarning: Since Chroma 0.4.x the manual persistence method is no longer supported as docs are automatically persisted.\n",
      "  vector_db.persist()\n"
     ]
    }
   ],
   "source": [
    "# XSS\n",
    "build_vector_db(\n",
    "    event_id=3699,\n",
    "    vector_db_path=\"RAG-Agent/vectorDB/vectorize_xss_26k_MISP\",\n",
    "    collection_name=\"xss\"\n",
    ")"
   ]
  },
  {
   "cell_type": "code",
   "execution_count": null,
   "metadata": {
    "colab": {
     "base_uri": "https://localhost:8080/"
    },
    "executionInfo": {
     "elapsed": 27282,
     "status": "ok",
     "timestamp": 1750349882733,
     "user": {
      "displayName": "Phạm Công Lập",
      "userId": "18035718571989140585"
     },
     "user_tz": -420
    },
    "id": "bZ6TaXxfzzSV",
    "outputId": "afbca25d-e904-4dbb-b7f1-ee71f86eb2af"
   },
   "outputs": [
    {
     "name": "stderr",
     "output_type": "stream",
     "text": [
      "/usr/local/lib/python3.11/dist-packages/urllib3/connectionpool.py:1097: InsecureRequestWarning: Unverified HTTPS request is being made to host '0300-2402-800-6388-34ba-9e0-b30-ee67-90b2.ngrok-free.app'. Adding certificate verification is strongly advised. See: https://urllib3.readthedocs.io/en/latest/advanced-usage.html#tls-warnings\n",
      "  warnings.warn(\n",
      "/usr/local/lib/python3.11/dist-packages/urllib3/connectionpool.py:1097: InsecureRequestWarning: Unverified HTTPS request is being made to host '0300-2402-800-6388-34ba-9e0-b30-ee67-90b2.ngrok-free.app'. Adding certificate verification is strongly advised. See: https://urllib3.readthedocs.io/en/latest/advanced-usage.html#tls-warnings\n",
      "  warnings.warn(\n",
      "/usr/local/lib/python3.11/dist-packages/urllib3/connectionpool.py:1097: InsecureRequestWarning: Unverified HTTPS request is being made to host '0300-2402-800-6388-34ba-9e0-b30-ee67-90b2.ngrok-free.app'. Adding certificate verification is strongly advised. See: https://urllib3.readthedocs.io/en/latest/advanced-usage.html#tls-warnings\n",
      "  warnings.warn(\n",
      "/usr/local/lib/python3.11/dist-packages/urllib3/connectionpool.py:1097: InsecureRequestWarning: Unverified HTTPS request is being made to host '0300-2402-800-6388-34ba-9e0-b30-ee67-90b2.ngrok-free.app'. Adding certificate verification is strongly advised. See: https://urllib3.readthedocs.io/en/latest/advanced-usage.html#tls-warnings\n",
      "  warnings.warn(\n"
     ]
    },
    {
     "name": "stdout",
     "output_type": "stream",
     "text": [
      "Saved 1500 SQLI payloads to vector DB at: /content/drive/MyDrive/NCKH/FINAL/RAG-Agent/vectorDB/vectorize_sqli_1k5_MISP\n",
      "\n",
      "=== Payloads Retrieved ===\n",
      "1. ' OR 1 -- -\n",
      "2. 1'--/*--*/-\n",
      "3. /*!%55NiOn*/ /*!%53eLEct*/\n",
      "4. hi' or 'x'='x';\n",
      "5. username: admin'/*\n",
      "\n",
      "=== Corresponding Vectors ===\n",
      "1. [-0.05133058875799179, -0.022964373230934143, 0.04451633617281914, 0.0011554447701200843, -0.03180110082030296, 0.01823512651026249, 0.10281830281019211, -0.030896879732608795, 0.010041853412985802, -0.019503042101860046]\n",
      "2. [-0.07813622802495956, 0.027137162163853645, 0.026169247925281525, -0.03784995898604393, -0.0881015881896019, -0.037472065538167953, 0.12266656011343002, 0.0005107754259370267, 0.015873447060585022, -0.02869364805519581]\n",
      "3. [-0.02551090344786644, 0.06993597000837326, 0.04216225817799568, 0.019270699471235275, -0.06647668778896332, 0.027577340602874756, 0.11173047870397568, -0.046064190566539764, 0.01705021969974041, -0.010362362489104271]\n",
      "4. [-0.053035859018564224, 0.06330820173025131, 0.012100026942789555, -0.0504491962492466, -0.0669286847114563, -0.05974308028817177, 0.12494228035211563, -0.00044456819887273014, 0.016515245661139488, -0.05744641274213791]\n",
      "5. [-0.07456112653017044, -0.01062975823879242, -0.014394961297512054, 0.013559678569436073, -0.07756848633289337, -0.07400834560394287, 0.13348300755023956, 0.01215975359082222, -0.047179099172353745, 0.006613593548536301]\n"
     ]
    }
   ],
   "source": [
    "# SQLI\n",
    "build_vector_db(\n",
    "    event_id=3706,\n",
    "    vector_db_path=\"RAG-Agent/vectorDB/vectorize_sqli_1k5_MISP\",\n",
    "    collection_name=\"sqli\"\n",
    ")"
   ]
  }
 ],
 "metadata": {
  "colab": {
   "provenance": []
  },
  "kernelspec": {
   "display_name": "Python 3",
   "name": "python3"
  },
  "language_info": {
   "name": "python"
  }
 },
 "nbformat": 4,
 "nbformat_minor": 0
}
